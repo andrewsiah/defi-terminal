{
 "cells": [
  {
   "cell_type": "code",
   "execution_count": null,
   "metadata": {},
   "outputs": [],
   "source": [
    "pip install pandas"
   ]
  },
  {
   "cell_type": "code",
   "execution_count": null,
   "metadata": {},
   "outputs": [],
   "source": [
    "import requests\n",
    "import pandas as pd"
   ]
  },
  {
   "cell_type": "code",
   "execution_count": null,
   "metadata": {},
   "outputs": [],
   "source": [
    "filepath = '/Users/asiah/Documents/projectrs/defi-terminal/output/num_trades.txt'\n",
    "\n",
    "# df = pd.read_csv('/Users/asiah/Documents/dev/defi-terminal/output/avg_trade_size.txt', sep=\",\", header=None, names=[\"address\", \"avg_trade_size\"])"
   ]
  },
  {
   "cell_type": "code",
   "execution_count": null,
   "metadata": {},
   "outputs": [],
   "source": [
    "df = pd.read_json('output/labels.json', orient='columns')\n",
    "\n",
    "# The 'labels' column contains nested dictionaries, so we need to normalize it\n",
    "df = pd.json_normalize(df['labels'])\n",
    "\n",
    "# Print the resulting dataframe\n",
    "print(df)\n"
   ]
  },
  {
   "cell_type": "code",
   "execution_count": null,
   "metadata": {},
   "outputs": [],
   "source": [
    "import pandas as pd\n",
    "import json\n",
    "\n",
    "\n",
    "def load_labels_to_df(file) -> pd.DataFrame:\n",
    "    # Load the JSON data from a file into a string\n",
    "    with open('/Users/asiah/Documents/dev/defi-terminal/output/classifications.json', 'r') as f:\n",
    "        json_string = f.read()\n",
    "\n",
    "    # Load the JSON data as a dictionary\n",
    "    data_dict = json.loads(json_string)\n",
    "\n",
    "    # Get the 'labels' list from the dictionary\n",
    "    labels_list = data_dict['labels']\n",
    "\n",
    "    # Create an empty list to hold the label dictionaries\n",
    "    label_dicts = []\n",
    "\n",
    "    # Iterate over each dictionary in the 'labels' list\n",
    "    for label_dict in labels_list:\n",
    "        \n",
    "        # Get the key-value pair from the dictionary\n",
    "        key, value = list(label_dict.items())[0]\n",
    "        \n",
    "        # Create a new dictionary with the key and value\n",
    "        new_dict = {'Address': key, 'labels': value}\n",
    "        \n",
    "        # Append the new dictionary to the list of label dictionaries\n",
    "        label_dicts.append(new_dict)\n",
    "\n",
    "    # Create a pandas dataframe from the list of label dictionaries\n",
    "    df = pd.DataFrame(label_dicts)\n",
    "    return df\n",
    "\n",
    "\n",
    "df.head()"
   ]
  },
  {
   "cell_type": "code",
   "execution_count": null,
   "metadata": {},
   "outputs": [],
   "source": [
    "import pandas as pd\n",
    "import json\n",
    "\n",
    "\n",
    "    # Load the JSON data from a file into a string\n",
    "with open('/Users/asiah/Documents/dev/defi-terminal/output/hash_tx_from.txt', 'r') as f:\n",
    "    json_data = f.read()\n",
    "\n",
    "# Load the JSON data into a dictionary\n",
    "data_dict = json.loads(json_data)\n",
    "\n",
    "# Create a DataFrame from the dictionary\n",
    "df = pd.DataFrame(data_dict)\n",
    "df"
   ]
  },
  {
   "cell_type": "code",
   "execution_count": null,
   "metadata": {},
   "outputs": [],
   "source": []
  }
 ],
 "metadata": {
  "kernelspec": {
   "display_name": "Python 3.9.13 64-bit ('3.9.13')",
   "language": "python",
   "name": "python3"
  },
  "language_info": {
   "codemirror_mode": {
    "name": "ipython",
    "version": 3
   },
   "file_extension": ".py",
   "mimetype": "text/x-python",
   "name": "python",
   "nbconvert_exporter": "python",
   "pygments_lexer": "ipython3",
   "version": "3.9.13"
  },
  "orig_nbformat": 4,
  "vscode": {
   "interpreter": {
    "hash": "fb22496bbdce84815cfd582af090c79280aa20415fd79603077ef6b8a8445ec2"
   }
  }
 },
 "nbformat": 4,
 "nbformat_minor": 2
}
